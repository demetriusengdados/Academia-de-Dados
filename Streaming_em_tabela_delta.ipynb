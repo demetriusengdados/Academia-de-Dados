{
 "cells": [
  {
   "cell_type": "code",
   "execution_count": null,
   "metadata": {},
   "outputs": [],
   "source": [
    "%fs ls /databricks-datasets/structured-streaming/events/\n",
    "\n",
    "#Exibindo o conteúdo de 1 arquivo json\n",
    "\n",
    "%python\n",
    "#Lendo um arquivo JSON\n",
    "dataf3 = spark.read.json(\"/databricks-datasets/structured-streaming/events/file-1.json\")\n",
    "dataf3.show()"
   ]
  },
  {
   "cell_type": "code",
   "execution_count": null,
   "metadata": {},
   "outputs": [],
   "source": [
    "#Criando um banco de dados em separado e uma tabela delta que irá receber os dados do json em streaming\n",
    "\n",
    "%sql\n",
    "CREATE DATABASE IF NOT EXISTS db_stream;\n",
    "USE db_strean;\n",
    "DROP TABLE IF EXISTS db_stream.tab_stream;\n",
    "CREATE TABLE db_stream.tab_stream(\n",
    "    action STRING,\n",
    "    time STRING\n",
    ")\n",
    "USING delta\n",
    "LOCATION \"/tmp/delta/events\""
   ]
  },
  {
   "cell_type": "code",
   "execution_count": null,
   "metadata": {},
   "outputs": [],
   "source": [
    "#Executando a carga na pasta do Delta Lake, onde serão armazenadas os dados\n",
    "\n",
    "%python\n",
    "from pyspark.sql.functions import *\n",
    "from pyspark.sql.types import *\n",
    "\n",
    "#Streaming reads and append into delta table(Start!)\n",
    "read_schema = StructType([\n",
    "    StructField(\"action\", StringType(), False),\n",
    "    StructField(\"time\", StringType(), True)\n",
    "])\n",
    "df2 = (spark.readStream\n",
    "       .option(\"maxFilesPerTrigger\", 1)\n",
    "       .schema(read_schema)\n",
    "       .json(\"/databricks-datasets/structured-streaming/events/\"))\n",
    "(df2.writeStream\n",
    " .format(delta)\n",
    " .outputMode(\"append\")\n",
    " .option(\"checkpointLocation\", \"/tmp/delta/checkpoint\")\n",
    " .option(\"path\", '/tmp/delta/events').start())"
   ]
  },
  {
   "cell_type": "code",
   "execution_count": null,
   "metadata": {},
   "outputs": [],
   "source": [
    "#Exibindo os dados em tempo real oriunda da tabela delta \n",
    "%sql\n",
    "\n",
    "select distinct action, count(*) from db_stream.tab_stream\n",
    "    group by action\n",
    "\n",
    "#Listando os hsitoricos registrados na tabela delta\n",
    "\n",
    "%sql\n",
    "DESCRIBE HISTORY '/tmp/delta/events'\n"
   ]
  }
 ],
 "metadata": {
  "language_info": {
   "name": "python"
  }
 },
 "nbformat": 4,
 "nbformat_minor": 2
}
