{
 "cells": [
  {
   "cell_type": "code",
   "execution_count": null,
   "metadata": {},
   "outputs": [],
   "source": [
    "%sql\n",
    "\n",
    "DROP TABLE IF EXISTS hotel; \n",
    "\n",
    "CREATE TABLE hotel \n",
    "USING parquet\n",
    "PARTITIONED BY (Categoria)\n",
    "SELECT _c0 as Ordem, _c1 as Tipo, _c2 as Situacao, _c3 as Tip_local, _c4 as Categoria, _c5 as Tipo_local2, _c6 as Tipo_local3, _c7 as Acomodacao, _c8 as Cidade,\n",
    "_c9 as Pais, _c10 as Endereco, _c11 as Latitude, _c12 as Longitude, _c13 as Provincia, _c14 as CEP, _c15 as UF, _c16 as Data_estadia, _c17, as Revisao_texto, _c18 as Revisao_titulo,\n",
    "c_19 as Revisao_cidade, _c20 as Endereco_web, _c21 as Comentario_usuario, _c22 as Resumo, _c23 as Comentario2, _c24 as Comentario3, _c25 as Comentario4\n",
    "FROM csv. 'dbfs:/FileStore/tables/hotel/Datafiniti_Hotel_Reviews_jun19.csv'"
   ]
  },
  {
   "cell_type": "code",
   "execution_count": null,
   "metadata": {},
   "outputs": [],
   "source": [
    "#%sql\n",
    "\n",
    "#Fazendo uma contagem das principais categorias e comentarios\n",
    "\n",
    "SELECT Categoria,Comentario2,Comentario3, count(*) as TOTAL\n",
    "FROM hotel\n",
    "GROUP BY Categoria, Comentario2, Comentario3\n",
    "ORDER BY Categoria, Total DES;"
   ]
  },
  {
   "cell_type": "code",
   "execution_count": null,
   "metadata": {},
   "outputs": [],
   "source": [
    "%sqç\n",
    "#Criando a tabela delta\n",
    "\n",
    "DROP TABLE IF EXISTS hotel;\n",
    "\n",
    "CREATE TABLE hotel\n",
    "using delta\n",
    "PARTITIONED BY (categoria)\n",
    "SELECT _c0 as Ordem, _c1 as Tipo, _c2 as Situacao, _c3 as Tip_local, _c4 as Categoria, _c5 as Tipo_local2, _c6 as Tipo_local3, _c7 as Acomodacao, _c8 as Cidade,\n",
    "_c9 as Pais, _c10 as Endereco, _c11 as Latitude, _c12 as Longitude, _c13 as Provincia, _c14 as CEP, _c15 as UF, _c16 as Data_estadia, _c17, as Revisao_texto, _c18 as Revisao_titulo,\n",
    "c_19 as Revisao_cidade, _c20 as Endereco_web, _c21 as Comentario_usuario, _c22 as Resumo, _c23 as Comentario2, _c24 as Comentario3, _c25 as Comentario4\n",
    "FROM csv. 'dbfs:/FileStore/tables/hotel/Datafiniti_Hotel_Reviews_jun19.csv'"
   ]
  },
  {
   "cell_type": "code",
   "execution_count": null,
   "metadata": {},
   "outputs": [],
   "source": [
    "#%sql\n",
    "\n",
    "#Otimizando a consulta da tabela delta com o campo Pais, é importante que busque o campo que melhor otimiza\n",
    "\n",
    "OPTIMIZE hotel ZORDER BY (Pais);\n",
    "\n",
    "#Executando a consulta otimizada na tabela delta\n",
    "Select Categoria, Comentario2, Comentario3, count(*) as Total\n",
    "From hotel\n",
    "GROUP BY Categoria, Comentario2, Comentario3\n",
    "ORDER BY Categoria, Total Desc;"
   ]
  },
  {
   "cell_type": "code",
   "execution_count": null,
   "metadata": {},
   "outputs": [],
   "source": []
  }
 ],
 "metadata": {
  "language_info": {
   "name": "python"
  }
 },
 "nbformat": 4,
 "nbformat_minor": 2
}
