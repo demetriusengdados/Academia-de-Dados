#Mostrando o historico das transações no delta lake - tabela compras 

#%sql
DESCRICBE HISTORY '/user/hive/warehouse/compras'

#Mostrando os dados de criação da tabela compras

#%sql 
DESCRIBE DETAIL '/user/hive/warehouse/compras'

#%Retornando a versão dos dados a posição do merge dos dados 

#%sql
SELECT * FROM delta. '/user/hive/warehouse/compras' VERSION AS OF 1


#Mostrando os dados após o retorno das versões

#%scala
spark.sql('select * from compras').show();

#Clonando os dados gerados

CREATE TABLE delta. '/temporario/hive/clonado' CLONE delta. '/user/hive/warehouse/compras'

#Restaurando definitivo os dados na tabela compras 

RESTORE TABLE compras TO VERSION AS OF 2

