import pandas as pd
import pyarrow as pa
import pyarrow.parquet as pq
import os

def json_to_parquet(json_file, parquet_file):
    df = pd.read_json(json_file)
    table = pa.Table.from_pandas(df)
    pq.write_table(table, parquet_file)

# Diretório contendo os arquivos JSON
json_dir = 'C:\Users\dimag\Dropbox\AcademiadeDados'
parquet_dir = 'C:\Users\dimag\Dropbox\AcademiadeDados'

# Certifique-se de que o diretório de saída existe
os.makedirs(parquet_dir, exist_ok=True)

# Processar cada arquivo JSON no diretório
for json_file in os.listdir(json_dir):
    if json_file.endswith('.json'):
        json_path = os.path.join(json_dir, json_file)
        parquet_path = os.path.join(parquet_dir, json_file.replace('.json', '.parquet'))
        json_to_parquet(json_path, parquet_path)
        print(f"Conversão concluída: {parquet_path}")
