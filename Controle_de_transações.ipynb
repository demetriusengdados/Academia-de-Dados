{
 "cells": [
  {
   "cell_type": "code",
   "execution_count": null,
   "metadata": {},
   "outputs": [],
   "source": [
    "#Criação das tabelas TB_AUTOR, TB_LIVRO, e a associativa TB_LIVRO_AUTOR\n",
    "\n",
    "#%scala\n",
    "\n",
    "val Tscrisql = 'CREATE OR REPLACE TABLE TB_AUTOR (ID_AUTOR DOUBLE, NOME STRING, SEXO STRING, DATA_NASCIMENTO STRING) USING DELTA;'\n",
    "spark.sql(Tscrisql);\n",
    "\n",
    "val Tscrisql1 = 'CREATE OR REPLACE TABLE TB_LIVRO (ID_LIVRO DOUBLE, ISBN STRING, TITULO STRING, EDICAO DOUBLE, PRECO DOUBLE, QTDE_ESTOQUE DOUBLE) USING DELTA;'\n",
    "spark.sql(Tscrisql1);\n",
    "\n",
    "val Tscrisql3 = 'CREATE OR REPLACE TABLE TB_LIVRO_AUTOR (ID_LIVRO_AUTOR DOUBLE, ID_LIVRO DOUBLE, ID_AUTOR DOUBLE) USING DELTA;'\n",
    "spark.sql(Tscrisql3);\n"
   ]
  },
  {
   "cell_type": "code",
   "execution_count": null,
   "metadata": {},
   "outputs": [],
   "source": [
    "#Inserção de registros na tabela tb_autor\n",
    "\n",
    "%scala \n",
    "\n",
    "val scrisql = 'Insert into TB_AUTOR (ID_AUTOR, NOME, SEXO, DATA_NASCIMENTO) values (1, 'Joao', 'M', '01/01/1970');'\n",
    "spark.sql(scrisql);\n",
    "val scrisql1 = 'Insert into TB_AUTOR (ID_AUTOR, NOME, SEXO, DATA_NASCIMENTO) values (2, 'Maria', 'F', '25/11/1975');'\n",
    "spark.sql(scrisql1);\n",
    "val scrisql2 = 'Insert into TB_AUTOR (ID_AUTOR, NOME, SEXO, DATA_NASCIMENTO) values (3, 'Sandra', 'F', '14/11/1978');'\n",
    "spark.sql(scrisql2);\n",
    "val scrisql3 = 'Insert into TB_AUTOR (ID_AUTOR, NOME, SEXO, DATA_NASCIMENTO) VALUES (4, 'Tereza', 'F', '21/11/1978');'\n",
    "spark.sql(scrisql3);"
   ]
  },
  {
   "cell_type": "code",
   "execution_count": null,
   "metadata": {},
   "outputs": [],
   "source": [
    "#Inserção de registros na tabela TB_LIVRO\n",
    "\n",
    "#%scala\n",
    "val Lscrisql = 'Insert into TB_LIVRO (ID_LIVRO, ISBN, TITULO, EDICAO, PRECO, QTDE_ESTOQUE) values (1, '1234567890', 'Banco de Dados', 2,10,407);'\n",
    "spark.sql(Lscrisql);\n",
    "val Lscrisql1 = 'Insert into TB_LIVRO (ID_LIVRO, ISBN, TITULO, EDICAO, PRECO, QTDE_ESTOQUE) values (2, '2345678901', 'Redes de Computadore', 1,10,60);'\n",
    "spark.sql(Lscrisql1);\n",
    "val Lscrisql2 = 'Insert into TB_LIVRO (ID_LIVRO, ISBN, TITULO, EDICAO, PRECO, QTED_ESTOQUE) values (3, '3456789012', 'Interface Homem Maquina', 3,10,10);'\n",
    "spark.sql(Lscrisql2);"
   ]
  },
  {
   "cell_type": "code",
   "execution_count": null,
   "metadata": {},
   "outputs": [],
   "source": [
    "#Inserção de registros na tabela TB_LIVRO_AUTOR\n",
    "#%scala\n",
    "val LAscrisql = \"Insert into TB_AUTOR_LIVRO (ID_LIVRO_AUTOR, ID_LIVRO, ID_AUTOR) values (1, 1, 1);\"\n",
    "spark.sql(LAscrisql);\n",
    "val LAscrisql1 = \"Insert into TB_AUTOR_LIVRO (ID_LIVRO_AUTOR, ID_LIVRO, ID_AUTOR) values (2, 1, 2);\"\n",
    "spark.sql(LAscrisql1);\n",
    "val LAscrisql2 = \"Insert into TB_AUTOR_LIVRO (ID_LIVRO_AUTOR, ID_LIVRO, ID_AUTOR) values (3, 2, 3);\"\n",
    "spark.sql(LAscrisql2);\n",
    "val LAscrisql3 = \"Insert into TB_AUTOR_LIVRO (ID_LIVRO_AUTOR, ID_LIVRO, ID_AUTOR) values (4, 3, 2);\"\n",
    "spark.sql(LAscrisql3)\n",
    "val LAscrisql4 = \"Insert into TB_AUTOR_LIVRO (ID_LIVRO_AUTOR, ID_LIVRO, ID_AUTOR) values (5, 3, 3);\"\n",
    "spark.sql(LAscrisql4);"
   ]
  }
 ],
 "metadata": {
  "language_info": {
   "name": "python"
  }
 },
 "nbformat": 4,
 "nbformat_minor": 2
}
